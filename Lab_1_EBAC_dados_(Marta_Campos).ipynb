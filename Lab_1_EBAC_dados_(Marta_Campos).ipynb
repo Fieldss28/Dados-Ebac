{
  "nbformat": 4,
  "nbformat_minor": 0,
  "metadata": {
    "colab": {
      "provenance": [],
      "authorship_tag": "ABX9TyOXNRonIfmBmWzBCjrezfho",
      "include_colab_link": true
    },
    "kernelspec": {
      "name": "python3",
      "display_name": "Python 3"
    },
    "language_info": {
      "name": "python"
    }
  },
  "cells": [
    {
      "cell_type": "markdown",
      "metadata": {
        "id": "view-in-github",
        "colab_type": "text"
      },
      "source": [
        "<a href=\"https://colab.research.google.com/github/Fieldss28/Cartorio-EBAC/blob/main/Lab_1_EBAC_dados_(Marta_Campos).ipynb\" target=\"_parent\"><img src=\"https://colab.research.google.com/assets/colab-badge.svg\" alt=\"Open In Colab\"/></a>"
      ]
    },
    {
      "cell_type": "markdown",
      "source": [
        "**Exercício nº 1:** Apresentação com \"Olá mundo!\""
      ],
      "metadata": {
        "id": "p4k-i3HuoBZ4"
      }
    },
    {
      "cell_type": "code",
      "source": [
        "apresentaçao = \"Olá mundo!\"\n",
        "\n",
        "print(apresentaçao)"
      ],
      "metadata": {
        "colab": {
          "base_uri": "https://localhost:8080/"
        },
        "id": "O0YjeJn3oQvt",
        "outputId": "edafb22f-75e4-42e5-dcb2-dd0b8cea44be"
      },
      "execution_count": 1,
      "outputs": [
        {
          "output_type": "stream",
          "name": "stdout",
          "text": [
            "Olá mundo!\n"
          ]
        }
      ]
    },
    {
      "cell_type": "markdown",
      "source": [
        "**Exercício nº 2:** Calcular as variáveis \"A\", \"B\" e \"C\" da tabela de vendas e ticket médio:\n",
        "\n",
        "\n",
        "--\n",
        "\n",
        "\n",
        "    DIA   |  Valor Total Vendas  | Qtd Total Vendas  | Ticket Médio  |\n",
        "---\n",
        "    19/01 |        (A)           |         3         |     320,52    |\n",
        "    20/01 |       834,47         |        (B)        |     119,21    |\n",
        "    23/01 |      15378,12        |         5         |       (C)     |"
      ],
      "metadata": {
        "id": "2xTYn9Wromki"
      }
    },
    {
      "cell_type": "code",
      "source": [
        "# 19/01\n",
        "qtd_total_vendas_1 = 3\n",
        "ticket_medio_1 = 320.52\n",
        "\n",
        "# 20/01\n",
        "valor_total_vendas_2 = 834.47\n",
        "ticket_medio_2 = 119.21\n",
        "\n",
        "# 23/01\n",
        "valor_total_vendas_3 = 15378.12\n",
        "qtd_total_vendas_3 = 5\n",
        "\n",
        "# Calcule aqui:\n",
        "A = valor_total_vendas_1 = (qtd_total_vendas_1*ticket_medio_1)\n",
        "B = qtd_total_vendas_2 = (valor_total_vendas_2/ticket_medio_2)\n",
        "C = ticket_medio_3 = (valor_total_vendas_3/qtd_total_vendas_3)\n",
        "\n",
        "# Print\n",
        "print('(A) = Valor total das vendas 19/01 é', float(A) )\n",
        "print('(B) = Quantidade total das vendas 20/01 é', float(B) )\n",
        "print('(C) = Ticket médio diário 23/01 é', float(C) )"
      ],
      "metadata": {
        "colab": {
          "base_uri": "https://localhost:8080/"
        },
        "id": "2bvu801ypEOq",
        "outputId": "fa3d9886-0ef5-43ff-bb49-64396de10168"
      },
      "execution_count": 2,
      "outputs": [
        {
          "output_type": "stream",
          "name": "stdout",
          "text": [
            "(A) = Valor total das vendas 19/01 é 961.56\n",
            "(B) = Quantidade total das vendas 20/01 é 7.000000000000001\n",
            "(C) = Ticket médio diário 23/01 é 3075.6240000000003\n"
          ]
        }
      ]
    },
    {
      "cell_type": "markdown",
      "source": [
        "**Exercício nº 3:** Aplicação de métodos em uma string --> cancao = 'Roda mundo, roda gigante, roda moinho, roda pião.'\n",
        "\n",
        "a) Substituir vírgulas por barras;\n",
        "b) Colocar a string em maiúscula;\n",
        "c) Encontrar a posiçao da palavra \"moinho\" na string;"
      ],
      "metadata": {
        "id": "UePtpIncq61U"
      }
    },
    {
      "cell_type": "code",
      "source": [
        "cancao = 'Roda mundo, roda gigante, roda moinho, roda pião.'\n",
        "\n",
        "# Substitua todas as vírgulas por barras /\n",
        "result1 = cancao.replace(\",\" , \"/\")\n",
        "print('Resposta 1: ' + (result1))\n",
        "\n",
        "# Deixe a string em maiúscula\n",
        "result2 = cancao.upper()\n",
        "print('Resposta 2: ' + (result2))\n",
        "\n",
        "# Encontre a posição da palavra \"moinho\" na string\n",
        "result3 = cancao.find('moinho')\n",
        "print('Resposta 3: A posiçao é ' + str(result3))\n"
      ],
      "metadata": {
        "colab": {
          "base_uri": "https://localhost:8080/"
        },
        "id": "b0ZJthYorIp2",
        "outputId": "9098c63f-ce93-4ce9-e97a-8f5f1e991adf"
      },
      "execution_count": 8,
      "outputs": [
        {
          "output_type": "stream",
          "name": "stdout",
          "text": [
            "Resposta 1: Roda mundo/ roda gigante/ roda moinho/ roda pião.\n",
            "Resposta 2: RODA MUNDO, RODA GIGANTE, RODA MOINHO, RODA PIÃO.\n",
            "Resposta 3: A posiçao é 31\n"
          ]
        }
      ]
    },
    {
      "cell_type": "markdown",
      "source": [
        "**Exercicio nº 4:**\n",
        "Extraia da string abaixo o valor da taxa selic na variável selic e o valor do ano na variável ano. Imprima os valores na tela.\n",
        "\n",
        "noticia = 'Selic vai a 2,75% e supera expectativas; ' + \\ 'é a primeira alta em 6 anos.'\n",
        "*texto em itálico*"
      ],
      "metadata": {
        "id": "gA6jen6DsULQ"
      }
    },
    {
      "cell_type": "code",
      "source": [
        "noticia = 'Selic vai a 2,75% e supera expectativas é a primeira alta em 6 anos.'\n",
        "\n",
        "posicao_selic = noticia.find('%')\n",
        "selic = (noticia[posicao_selic - 4 : posicao_selic+1])\n",
        "print(f'Valor da taxa Selic: {selic}')\n",
        "\n",
        "posicao_ano = noticia.find(\"ano\")\n",
        "ano = (noticia[posicao_ano - 2 : posicao_ano - 1])\n",
        "print(f'Valor do ano: {ano}')"
      ],
      "metadata": {
        "colab": {
          "base_uri": "https://localhost:8080/"
        },
        "id": "_rb_jxggrs1R",
        "outputId": "70b9e318-ee16-4772-ddda-4d5819943b9b"
      },
      "execution_count": 9,
      "outputs": [
        {
          "output_type": "stream",
          "name": "stdout",
          "text": [
            "Valor da taxa Selic: 2,75%\n",
            "Valor do ano: 6\n"
          ]
        }
      ]
    },
    {
      "cell_type": "markdown",
      "source": [
        "**Exercicio nº 4:**\n",
        "Utilize a tabela da verdade para responder: qual o valor da variável x?\n",
        "\n",
        "a = False //\n",
        "b = True //\n",
        "x = not a & b;"
      ],
      "metadata": {
        "id": "onZ0AXdKsod2"
      }
    },
    {
      "cell_type": "code",
      "source": [
        "# a = False\n",
        "# b = True\n",
        "# x = not a & b\n",
        "\n",
        "\n",
        "a = False\n",
        "b = True\n",
        "\n",
        "x = not(a & b)\n",
        "\n",
        "print(f'a = False e b = True; Se (a & b) = False, então not(a & b) equivale a {x}.')"
      ],
      "metadata": {
        "colab": {
          "base_uri": "https://localhost:8080/"
        },
        "id": "eNpLfBJds7AV",
        "outputId": "3bbdb61f-e8f8-4371-a7e0-0e70ef366c48"
      },
      "execution_count": 10,
      "outputs": [
        {
          "output_type": "stream",
          "name": "stdout",
          "text": [
            "a = False e b = True; Se (a & b) = False, então not(a & b) equivale a True.\n"
          ]
        }
      ]
    }
  ]
}